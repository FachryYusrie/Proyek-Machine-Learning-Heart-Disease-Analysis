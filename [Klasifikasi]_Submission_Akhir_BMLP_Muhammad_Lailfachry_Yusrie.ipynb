{
  "nbformat": 4,
  "nbformat_minor": 0,
  "metadata": {
    "colab": {
      "provenance": []
    },
    "kernelspec": {
      "name": "python3",
      "display_name": "Python 3"
    },
    "language_info": {
      "name": "python"
    }
  },
  "cells": [
    {
      "cell_type": "markdown",
      "source": [
        "# **1. Import Library**"
      ],
      "metadata": {
        "id": "fKADPWcFKlj3"
      }
    },
    {
      "cell_type": "markdown",
      "source": [
        "Pada tahap ini, Anda perlu mengimpor beberapa pustaka (library) Python yang dibutuhkan untuk analisis data dan pembangunan model machine learning."
      ],
      "metadata": {
        "id": "LgA3ERnVn84N"
      }
    },
    {
      "cell_type": "code",
      "source": [
        "import pandas as pd\n",
        "import numpy as np\n",
        "import seaborn as sns\n",
        "import matplotlib.pyplot as plt\n",
        "from sklearn.model_selection import train_test_split\n",
        "from sklearn.neighbors import KNeighborsClassifier\n",
        "from sklearn.tree import DecisionTreeClassifier\n",
        "from sklearn.ensemble import RandomForestClassifier\n",
        "from sklearn.svm import SVC\n",
        "from sklearn.naive_bayes import GaussianNB\n",
        "from sklearn.metrics import confusion_matrix, accuracy_score, precision_score, recall_score, f1_score"
      ],
      "metadata": {
        "id": "BlmvjLY9M4Yj"
      },
      "execution_count": 1,
      "outputs": []
    },
    {
      "cell_type": "markdown",
      "source": [
        "# **2. Memuat Dataset dari Hasil Clustering**"
      ],
      "metadata": {
        "id": "f3YIEnAFKrKL"
      }
    },
    {
      "cell_type": "markdown",
      "source": [
        "Memuat dataset hasil clustering dari file CSV ke dalam variabel DataFrame."
      ],
      "metadata": {
        "id": "Ey3ItwTen_7E"
      }
    },
    {
      "cell_type": "code",
      "source": [
        "heart_data = pd.read_csv('https://raw.githubusercontent.com/FachryYusrie/Proyek-Machine-Learning-Heart-Disease-Analysis/refs/heads/main/Data/heart_disease_final.csv')"
      ],
      "metadata": {
        "id": "GHCGNTyrM5fS"
      },
      "execution_count": 2,
      "outputs": []
    },
    {
      "cell_type": "code",
      "source": [
        "heart_data"
      ],
      "metadata": {
        "id": "vY-VXOvZeXv7",
        "outputId": "6721cab1-65fa-4fe7-a1c4-90794ebddf87",
        "colab": {
          "base_uri": "https://localhost:8080/",
          "height": 461
        }
      },
      "execution_count": 3,
      "outputs": [
        {
          "output_type": "execute_result",
          "data": {
            "text/plain": [
              "          id  thalch  oldpeak   ca  Cholesterol_Group  Age_Group  \\\n",
              "0        0.0   150.0     2.30  0.0                  1          2   \n",
              "1        1.0   108.0     1.50  3.0                  2          3   \n",
              "2        2.0   129.0     2.60  2.0                  1          3   \n",
              "3        3.0   187.0     3.50  0.0                  2          1   \n",
              "4        4.0   172.0     1.40  0.0                  1          1   \n",
              "...      ...     ...      ...  ...                ...        ...   \n",
              "1008  1008.0   149.0     0.50  0.0                  2          2   \n",
              "1009  1009.0   151.0     0.40  0.0                  2          3   \n",
              "1010  1010.0   145.0     3.75  3.0                  0          2   \n",
              "1011  1011.0   146.0     1.80  3.0                  1          2   \n",
              "1012  1012.0   175.0     0.60  0.0                  0          1   \n",
              "\n",
              "      trestbps_Group  thalch_Group  sex_Male  dataset_Hungary  ...  \\\n",
              "0                  0             0         1                0  ...   \n",
              "1                  0             1         1                0  ...   \n",
              "2                  0             0         1                0  ...   \n",
              "3                  0             0         1                0  ...   \n",
              "4                  0             0         0                0  ...   \n",
              "...              ...           ...       ...              ...  ...   \n",
              "1008               0             0         0                0  ...   \n",
              "1009               0             0         1                0  ...   \n",
              "1010               0             0         0                0  ...   \n",
              "1011               0             0         1                0  ...   \n",
              "1012               0             0         0                0  ...   \n",
              "\n",
              "      slope_upsloping  thal_fixed defect  thal_normal  thal_reversable defect  \\\n",
              "0                   0                  1            0                       0   \n",
              "1                   0                  0            1                       0   \n",
              "2                   0                  0            0                       1   \n",
              "3                   0                  0            1                       0   \n",
              "4                   1                  0            1                       0   \n",
              "...               ...                ...          ...                     ...   \n",
              "1008                1                  0            1                       0   \n",
              "1009                0                  0            1                       0   \n",
              "1010                0                  0            0                       1   \n",
              "1011                0                  0            0                       1   \n",
              "1012                0                  0            1                       0   \n",
              "\n",
              "      Oldpeak_Category_Depresi ST Ringan  Oldpeak_Category_Depresi ST Sedang  \\\n",
              "0                                      0                                   0   \n",
              "1                                      0                                   0   \n",
              "2                                      0                                   0   \n",
              "3                                      0                                   0   \n",
              "4                                      0                                   0   \n",
              "...                                  ...                                 ...   \n",
              "1008                                   0                                   0   \n",
              "1009                                   0                                   0   \n",
              "1010                                   0                                   0   \n",
              "1011                                   0                                   0   \n",
              "1012                                   0                                   0   \n",
              "\n",
              "      Oldpeak_Category_Peningkatan ST Parah  \\\n",
              "0                                         1   \n",
              "1                                         0   \n",
              "2                                         1   \n",
              "3                                         1   \n",
              "4                                         0   \n",
              "...                                     ...   \n",
              "1008                                      0   \n",
              "1009                                      0   \n",
              "1010                                      1   \n",
              "1011                                      0   \n",
              "1012                                      0   \n",
              "\n",
              "      Oldpeak_Category_Peningkatan ST Ringan  \\\n",
              "0                                          0   \n",
              "1                                          0   \n",
              "2                                          0   \n",
              "3                                          0   \n",
              "4                                          0   \n",
              "...                                      ...   \n",
              "1008                                       1   \n",
              "1009                                       1   \n",
              "1010                                       0   \n",
              "1011                                       0   \n",
              "1012                                       1   \n",
              "\n",
              "      Oldpeak_Category_Peningkatan ST Sedang  Cluster  \n",
              "0                                          0        0  \n",
              "1                                          1        0  \n",
              "2                                          0        0  \n",
              "3                                          0        0  \n",
              "4                                          1        0  \n",
              "...                                      ...      ...  \n",
              "1008                                       0        1  \n",
              "1009                                       0        1  \n",
              "1010                                       0        1  \n",
              "1011                                       1        1  \n",
              "1012                                       0        1  \n",
              "\n",
              "[1013 rows x 34 columns]"
            ],
            "text/html": [
              "\n",
              "  <div id=\"df-965be076-36fd-4fdc-88ba-53337f5908fe\" class=\"colab-df-container\">\n",
              "    <div>\n",
              "<style scoped>\n",
              "    .dataframe tbody tr th:only-of-type {\n",
              "        vertical-align: middle;\n",
              "    }\n",
              "\n",
              "    .dataframe tbody tr th {\n",
              "        vertical-align: top;\n",
              "    }\n",
              "\n",
              "    .dataframe thead th {\n",
              "        text-align: right;\n",
              "    }\n",
              "</style>\n",
              "<table border=\"1\" class=\"dataframe\">\n",
              "  <thead>\n",
              "    <tr style=\"text-align: right;\">\n",
              "      <th></th>\n",
              "      <th>id</th>\n",
              "      <th>thalch</th>\n",
              "      <th>oldpeak</th>\n",
              "      <th>ca</th>\n",
              "      <th>Cholesterol_Group</th>\n",
              "      <th>Age_Group</th>\n",
              "      <th>trestbps_Group</th>\n",
              "      <th>thalch_Group</th>\n",
              "      <th>sex_Male</th>\n",
              "      <th>dataset_Hungary</th>\n",
              "      <th>...</th>\n",
              "      <th>slope_upsloping</th>\n",
              "      <th>thal_fixed defect</th>\n",
              "      <th>thal_normal</th>\n",
              "      <th>thal_reversable defect</th>\n",
              "      <th>Oldpeak_Category_Depresi ST Ringan</th>\n",
              "      <th>Oldpeak_Category_Depresi ST Sedang</th>\n",
              "      <th>Oldpeak_Category_Peningkatan ST Parah</th>\n",
              "      <th>Oldpeak_Category_Peningkatan ST Ringan</th>\n",
              "      <th>Oldpeak_Category_Peningkatan ST Sedang</th>\n",
              "      <th>Cluster</th>\n",
              "    </tr>\n",
              "  </thead>\n",
              "  <tbody>\n",
              "    <tr>\n",
              "      <th>0</th>\n",
              "      <td>0.0</td>\n",
              "      <td>150.0</td>\n",
              "      <td>2.30</td>\n",
              "      <td>0.0</td>\n",
              "      <td>1</td>\n",
              "      <td>2</td>\n",
              "      <td>0</td>\n",
              "      <td>0</td>\n",
              "      <td>1</td>\n",
              "      <td>0</td>\n",
              "      <td>...</td>\n",
              "      <td>0</td>\n",
              "      <td>1</td>\n",
              "      <td>0</td>\n",
              "      <td>0</td>\n",
              "      <td>0</td>\n",
              "      <td>0</td>\n",
              "      <td>1</td>\n",
              "      <td>0</td>\n",
              "      <td>0</td>\n",
              "      <td>0</td>\n",
              "    </tr>\n",
              "    <tr>\n",
              "      <th>1</th>\n",
              "      <td>1.0</td>\n",
              "      <td>108.0</td>\n",
              "      <td>1.50</td>\n",
              "      <td>3.0</td>\n",
              "      <td>2</td>\n",
              "      <td>3</td>\n",
              "      <td>0</td>\n",
              "      <td>1</td>\n",
              "      <td>1</td>\n",
              "      <td>0</td>\n",
              "      <td>...</td>\n",
              "      <td>0</td>\n",
              "      <td>0</td>\n",
              "      <td>1</td>\n",
              "      <td>0</td>\n",
              "      <td>0</td>\n",
              "      <td>0</td>\n",
              "      <td>0</td>\n",
              "      <td>0</td>\n",
              "      <td>1</td>\n",
              "      <td>0</td>\n",
              "    </tr>\n",
              "    <tr>\n",
              "      <th>2</th>\n",
              "      <td>2.0</td>\n",
              "      <td>129.0</td>\n",
              "      <td>2.60</td>\n",
              "      <td>2.0</td>\n",
              "      <td>1</td>\n",
              "      <td>3</td>\n",
              "      <td>0</td>\n",
              "      <td>0</td>\n",
              "      <td>1</td>\n",
              "      <td>0</td>\n",
              "      <td>...</td>\n",
              "      <td>0</td>\n",
              "      <td>0</td>\n",
              "      <td>0</td>\n",
              "      <td>1</td>\n",
              "      <td>0</td>\n",
              "      <td>0</td>\n",
              "      <td>1</td>\n",
              "      <td>0</td>\n",
              "      <td>0</td>\n",
              "      <td>0</td>\n",
              "    </tr>\n",
              "    <tr>\n",
              "      <th>3</th>\n",
              "      <td>3.0</td>\n",
              "      <td>187.0</td>\n",
              "      <td>3.50</td>\n",
              "      <td>0.0</td>\n",
              "      <td>2</td>\n",
              "      <td>1</td>\n",
              "      <td>0</td>\n",
              "      <td>0</td>\n",
              "      <td>1</td>\n",
              "      <td>0</td>\n",
              "      <td>...</td>\n",
              "      <td>0</td>\n",
              "      <td>0</td>\n",
              "      <td>1</td>\n",
              "      <td>0</td>\n",
              "      <td>0</td>\n",
              "      <td>0</td>\n",
              "      <td>1</td>\n",
              "      <td>0</td>\n",
              "      <td>0</td>\n",
              "      <td>0</td>\n",
              "    </tr>\n",
              "    <tr>\n",
              "      <th>4</th>\n",
              "      <td>4.0</td>\n",
              "      <td>172.0</td>\n",
              "      <td>1.40</td>\n",
              "      <td>0.0</td>\n",
              "      <td>1</td>\n",
              "      <td>1</td>\n",
              "      <td>0</td>\n",
              "      <td>0</td>\n",
              "      <td>0</td>\n",
              "      <td>0</td>\n",
              "      <td>...</td>\n",
              "      <td>1</td>\n",
              "      <td>0</td>\n",
              "      <td>1</td>\n",
              "      <td>0</td>\n",
              "      <td>0</td>\n",
              "      <td>0</td>\n",
              "      <td>0</td>\n",
              "      <td>0</td>\n",
              "      <td>1</td>\n",
              "      <td>0</td>\n",
              "    </tr>\n",
              "    <tr>\n",
              "      <th>...</th>\n",
              "      <td>...</td>\n",
              "      <td>...</td>\n",
              "      <td>...</td>\n",
              "      <td>...</td>\n",
              "      <td>...</td>\n",
              "      <td>...</td>\n",
              "      <td>...</td>\n",
              "      <td>...</td>\n",
              "      <td>...</td>\n",
              "      <td>...</td>\n",
              "      <td>...</td>\n",
              "      <td>...</td>\n",
              "      <td>...</td>\n",
              "      <td>...</td>\n",
              "      <td>...</td>\n",
              "      <td>...</td>\n",
              "      <td>...</td>\n",
              "      <td>...</td>\n",
              "      <td>...</td>\n",
              "      <td>...</td>\n",
              "      <td>...</td>\n",
              "    </tr>\n",
              "    <tr>\n",
              "      <th>1008</th>\n",
              "      <td>1008.0</td>\n",
              "      <td>149.0</td>\n",
              "      <td>0.50</td>\n",
              "      <td>0.0</td>\n",
              "      <td>2</td>\n",
              "      <td>2</td>\n",
              "      <td>0</td>\n",
              "      <td>0</td>\n",
              "      <td>0</td>\n",
              "      <td>0</td>\n",
              "      <td>...</td>\n",
              "      <td>1</td>\n",
              "      <td>0</td>\n",
              "      <td>1</td>\n",
              "      <td>0</td>\n",
              "      <td>0</td>\n",
              "      <td>0</td>\n",
              "      <td>0</td>\n",
              "      <td>1</td>\n",
              "      <td>0</td>\n",
              "      <td>1</td>\n",
              "    </tr>\n",
              "    <tr>\n",
              "      <th>1009</th>\n",
              "      <td>1009.0</td>\n",
              "      <td>151.0</td>\n",
              "      <td>0.40</td>\n",
              "      <td>0.0</td>\n",
              "      <td>2</td>\n",
              "      <td>3</td>\n",
              "      <td>0</td>\n",
              "      <td>0</td>\n",
              "      <td>1</td>\n",
              "      <td>0</td>\n",
              "      <td>...</td>\n",
              "      <td>0</td>\n",
              "      <td>0</td>\n",
              "      <td>1</td>\n",
              "      <td>0</td>\n",
              "      <td>0</td>\n",
              "      <td>0</td>\n",
              "      <td>0</td>\n",
              "      <td>1</td>\n",
              "      <td>0</td>\n",
              "      <td>1</td>\n",
              "    </tr>\n",
              "    <tr>\n",
              "      <th>1010</th>\n",
              "      <td>1010.0</td>\n",
              "      <td>145.0</td>\n",
              "      <td>3.75</td>\n",
              "      <td>3.0</td>\n",
              "      <td>0</td>\n",
              "      <td>2</td>\n",
              "      <td>0</td>\n",
              "      <td>0</td>\n",
              "      <td>0</td>\n",
              "      <td>0</td>\n",
              "      <td>...</td>\n",
              "      <td>0</td>\n",
              "      <td>0</td>\n",
              "      <td>0</td>\n",
              "      <td>1</td>\n",
              "      <td>0</td>\n",
              "      <td>0</td>\n",
              "      <td>1</td>\n",
              "      <td>0</td>\n",
              "      <td>0</td>\n",
              "      <td>1</td>\n",
              "    </tr>\n",
              "    <tr>\n",
              "      <th>1011</th>\n",
              "      <td>1011.0</td>\n",
              "      <td>146.0</td>\n",
              "      <td>1.80</td>\n",
              "      <td>3.0</td>\n",
              "      <td>1</td>\n",
              "      <td>2</td>\n",
              "      <td>0</td>\n",
              "      <td>0</td>\n",
              "      <td>1</td>\n",
              "      <td>0</td>\n",
              "      <td>...</td>\n",
              "      <td>0</td>\n",
              "      <td>0</td>\n",
              "      <td>0</td>\n",
              "      <td>1</td>\n",
              "      <td>0</td>\n",
              "      <td>0</td>\n",
              "      <td>0</td>\n",
              "      <td>0</td>\n",
              "      <td>1</td>\n",
              "      <td>1</td>\n",
              "    </tr>\n",
              "    <tr>\n",
              "      <th>1012</th>\n",
              "      <td>1012.0</td>\n",
              "      <td>175.0</td>\n",
              "      <td>0.60</td>\n",
              "      <td>0.0</td>\n",
              "      <td>0</td>\n",
              "      <td>1</td>\n",
              "      <td>0</td>\n",
              "      <td>0</td>\n",
              "      <td>0</td>\n",
              "      <td>0</td>\n",
              "      <td>...</td>\n",
              "      <td>0</td>\n",
              "      <td>0</td>\n",
              "      <td>1</td>\n",
              "      <td>0</td>\n",
              "      <td>0</td>\n",
              "      <td>0</td>\n",
              "      <td>0</td>\n",
              "      <td>1</td>\n",
              "      <td>0</td>\n",
              "      <td>1</td>\n",
              "    </tr>\n",
              "  </tbody>\n",
              "</table>\n",
              "<p>1013 rows × 34 columns</p>\n",
              "</div>\n",
              "    <div class=\"colab-df-buttons\">\n",
              "\n",
              "  <div class=\"colab-df-container\">\n",
              "    <button class=\"colab-df-convert\" onclick=\"convertToInteractive('df-965be076-36fd-4fdc-88ba-53337f5908fe')\"\n",
              "            title=\"Convert this dataframe to an interactive table.\"\n",
              "            style=\"display:none;\">\n",
              "\n",
              "  <svg xmlns=\"http://www.w3.org/2000/svg\" height=\"24px\" viewBox=\"0 -960 960 960\">\n",
              "    <path d=\"M120-120v-720h720v720H120Zm60-500h600v-160H180v160Zm220 220h160v-160H400v160Zm0 220h160v-160H400v160ZM180-400h160v-160H180v160Zm440 0h160v-160H620v160ZM180-180h160v-160H180v160Zm440 0h160v-160H620v160Z\"/>\n",
              "  </svg>\n",
              "    </button>\n",
              "\n",
              "  <style>\n",
              "    .colab-df-container {\n",
              "      display:flex;\n",
              "      gap: 12px;\n",
              "    }\n",
              "\n",
              "    .colab-df-convert {\n",
              "      background-color: #E8F0FE;\n",
              "      border: none;\n",
              "      border-radius: 50%;\n",
              "      cursor: pointer;\n",
              "      display: none;\n",
              "      fill: #1967D2;\n",
              "      height: 32px;\n",
              "      padding: 0 0 0 0;\n",
              "      width: 32px;\n",
              "    }\n",
              "\n",
              "    .colab-df-convert:hover {\n",
              "      background-color: #E2EBFA;\n",
              "      box-shadow: 0px 1px 2px rgba(60, 64, 67, 0.3), 0px 1px 3px 1px rgba(60, 64, 67, 0.15);\n",
              "      fill: #174EA6;\n",
              "    }\n",
              "\n",
              "    .colab-df-buttons div {\n",
              "      margin-bottom: 4px;\n",
              "    }\n",
              "\n",
              "    [theme=dark] .colab-df-convert {\n",
              "      background-color: #3B4455;\n",
              "      fill: #D2E3FC;\n",
              "    }\n",
              "\n",
              "    [theme=dark] .colab-df-convert:hover {\n",
              "      background-color: #434B5C;\n",
              "      box-shadow: 0px 1px 3px 1px rgba(0, 0, 0, 0.15);\n",
              "      filter: drop-shadow(0px 1px 2px rgba(0, 0, 0, 0.3));\n",
              "      fill: #FFFFFF;\n",
              "    }\n",
              "  </style>\n",
              "\n",
              "    <script>\n",
              "      const buttonEl =\n",
              "        document.querySelector('#df-965be076-36fd-4fdc-88ba-53337f5908fe button.colab-df-convert');\n",
              "      buttonEl.style.display =\n",
              "        google.colab.kernel.accessAllowed ? 'block' : 'none';\n",
              "\n",
              "      async function convertToInteractive(key) {\n",
              "        const element = document.querySelector('#df-965be076-36fd-4fdc-88ba-53337f5908fe');\n",
              "        const dataTable =\n",
              "          await google.colab.kernel.invokeFunction('convertToInteractive',\n",
              "                                                    [key], {});\n",
              "        if (!dataTable) return;\n",
              "\n",
              "        const docLinkHtml = 'Like what you see? Visit the ' +\n",
              "          '<a target=\"_blank\" href=https://colab.research.google.com/notebooks/data_table.ipynb>data table notebook</a>'\n",
              "          + ' to learn more about interactive tables.';\n",
              "        element.innerHTML = '';\n",
              "        dataTable['output_type'] = 'display_data';\n",
              "        await google.colab.output.renderOutput(dataTable, element);\n",
              "        const docLink = document.createElement('div');\n",
              "        docLink.innerHTML = docLinkHtml;\n",
              "        element.appendChild(docLink);\n",
              "      }\n",
              "    </script>\n",
              "  </div>\n",
              "\n",
              "\n",
              "<div id=\"df-355f0e1a-5445-4b72-9034-f55893938295\">\n",
              "  <button class=\"colab-df-quickchart\" onclick=\"quickchart('df-355f0e1a-5445-4b72-9034-f55893938295')\"\n",
              "            title=\"Suggest charts\"\n",
              "            style=\"display:none;\">\n",
              "\n",
              "<svg xmlns=\"http://www.w3.org/2000/svg\" height=\"24px\"viewBox=\"0 0 24 24\"\n",
              "     width=\"24px\">\n",
              "    <g>\n",
              "        <path d=\"M19 3H5c-1.1 0-2 .9-2 2v14c0 1.1.9 2 2 2h14c1.1 0 2-.9 2-2V5c0-1.1-.9-2-2-2zM9 17H7v-7h2v7zm4 0h-2V7h2v10zm4 0h-2v-4h2v4z\"/>\n",
              "    </g>\n",
              "</svg>\n",
              "  </button>\n",
              "\n",
              "<style>\n",
              "  .colab-df-quickchart {\n",
              "      --bg-color: #E8F0FE;\n",
              "      --fill-color: #1967D2;\n",
              "      --hover-bg-color: #E2EBFA;\n",
              "      --hover-fill-color: #174EA6;\n",
              "      --disabled-fill-color: #AAA;\n",
              "      --disabled-bg-color: #DDD;\n",
              "  }\n",
              "\n",
              "  [theme=dark] .colab-df-quickchart {\n",
              "      --bg-color: #3B4455;\n",
              "      --fill-color: #D2E3FC;\n",
              "      --hover-bg-color: #434B5C;\n",
              "      --hover-fill-color: #FFFFFF;\n",
              "      --disabled-bg-color: #3B4455;\n",
              "      --disabled-fill-color: #666;\n",
              "  }\n",
              "\n",
              "  .colab-df-quickchart {\n",
              "    background-color: var(--bg-color);\n",
              "    border: none;\n",
              "    border-radius: 50%;\n",
              "    cursor: pointer;\n",
              "    display: none;\n",
              "    fill: var(--fill-color);\n",
              "    height: 32px;\n",
              "    padding: 0;\n",
              "    width: 32px;\n",
              "  }\n",
              "\n",
              "  .colab-df-quickchart:hover {\n",
              "    background-color: var(--hover-bg-color);\n",
              "    box-shadow: 0 1px 2px rgba(60, 64, 67, 0.3), 0 1px 3px 1px rgba(60, 64, 67, 0.15);\n",
              "    fill: var(--button-hover-fill-color);\n",
              "  }\n",
              "\n",
              "  .colab-df-quickchart-complete:disabled,\n",
              "  .colab-df-quickchart-complete:disabled:hover {\n",
              "    background-color: var(--disabled-bg-color);\n",
              "    fill: var(--disabled-fill-color);\n",
              "    box-shadow: none;\n",
              "  }\n",
              "\n",
              "  .colab-df-spinner {\n",
              "    border: 2px solid var(--fill-color);\n",
              "    border-color: transparent;\n",
              "    border-bottom-color: var(--fill-color);\n",
              "    animation:\n",
              "      spin 1s steps(1) infinite;\n",
              "  }\n",
              "\n",
              "  @keyframes spin {\n",
              "    0% {\n",
              "      border-color: transparent;\n",
              "      border-bottom-color: var(--fill-color);\n",
              "      border-left-color: var(--fill-color);\n",
              "    }\n",
              "    20% {\n",
              "      border-color: transparent;\n",
              "      border-left-color: var(--fill-color);\n",
              "      border-top-color: var(--fill-color);\n",
              "    }\n",
              "    30% {\n",
              "      border-color: transparent;\n",
              "      border-left-color: var(--fill-color);\n",
              "      border-top-color: var(--fill-color);\n",
              "      border-right-color: var(--fill-color);\n",
              "    }\n",
              "    40% {\n",
              "      border-color: transparent;\n",
              "      border-right-color: var(--fill-color);\n",
              "      border-top-color: var(--fill-color);\n",
              "    }\n",
              "    60% {\n",
              "      border-color: transparent;\n",
              "      border-right-color: var(--fill-color);\n",
              "    }\n",
              "    80% {\n",
              "      border-color: transparent;\n",
              "      border-right-color: var(--fill-color);\n",
              "      border-bottom-color: var(--fill-color);\n",
              "    }\n",
              "    90% {\n",
              "      border-color: transparent;\n",
              "      border-bottom-color: var(--fill-color);\n",
              "    }\n",
              "  }\n",
              "</style>\n",
              "\n",
              "  <script>\n",
              "    async function quickchart(key) {\n",
              "      const quickchartButtonEl =\n",
              "        document.querySelector('#' + key + ' button');\n",
              "      quickchartButtonEl.disabled = true;  // To prevent multiple clicks.\n",
              "      quickchartButtonEl.classList.add('colab-df-spinner');\n",
              "      try {\n",
              "        const charts = await google.colab.kernel.invokeFunction(\n",
              "            'suggestCharts', [key], {});\n",
              "      } catch (error) {\n",
              "        console.error('Error during call to suggestCharts:', error);\n",
              "      }\n",
              "      quickchartButtonEl.classList.remove('colab-df-spinner');\n",
              "      quickchartButtonEl.classList.add('colab-df-quickchart-complete');\n",
              "    }\n",
              "    (() => {\n",
              "      let quickchartButtonEl =\n",
              "        document.querySelector('#df-355f0e1a-5445-4b72-9034-f55893938295 button');\n",
              "      quickchartButtonEl.style.display =\n",
              "        google.colab.kernel.accessAllowed ? 'block' : 'none';\n",
              "    })();\n",
              "  </script>\n",
              "</div>\n",
              "\n",
              "  <div id=\"id_a2df946b-fe52-4a67-9824-52f9d28192d4\">\n",
              "    <style>\n",
              "      .colab-df-generate {\n",
              "        background-color: #E8F0FE;\n",
              "        border: none;\n",
              "        border-radius: 50%;\n",
              "        cursor: pointer;\n",
              "        display: none;\n",
              "        fill: #1967D2;\n",
              "        height: 32px;\n",
              "        padding: 0 0 0 0;\n",
              "        width: 32px;\n",
              "      }\n",
              "\n",
              "      .colab-df-generate:hover {\n",
              "        background-color: #E2EBFA;\n",
              "        box-shadow: 0px 1px 2px rgba(60, 64, 67, 0.3), 0px 1px 3px 1px rgba(60, 64, 67, 0.15);\n",
              "        fill: #174EA6;\n",
              "      }\n",
              "\n",
              "      [theme=dark] .colab-df-generate {\n",
              "        background-color: #3B4455;\n",
              "        fill: #D2E3FC;\n",
              "      }\n",
              "\n",
              "      [theme=dark] .colab-df-generate:hover {\n",
              "        background-color: #434B5C;\n",
              "        box-shadow: 0px 1px 3px 1px rgba(0, 0, 0, 0.15);\n",
              "        filter: drop-shadow(0px 1px 2px rgba(0, 0, 0, 0.3));\n",
              "        fill: #FFFFFF;\n",
              "      }\n",
              "    </style>\n",
              "    <button class=\"colab-df-generate\" onclick=\"generateWithVariable('heart_data')\"\n",
              "            title=\"Generate code using this dataframe.\"\n",
              "            style=\"display:none;\">\n",
              "\n",
              "  <svg xmlns=\"http://www.w3.org/2000/svg\" height=\"24px\"viewBox=\"0 0 24 24\"\n",
              "       width=\"24px\">\n",
              "    <path d=\"M7,19H8.4L18.45,9,17,7.55,7,17.6ZM5,21V16.75L18.45,3.32a2,2,0,0,1,2.83,0l1.4,1.43a1.91,1.91,0,0,1,.58,1.4,1.91,1.91,0,0,1-.58,1.4L9.25,21ZM18.45,9,17,7.55Zm-12,3A5.31,5.31,0,0,0,4.9,8.1,5.31,5.31,0,0,0,1,6.5,5.31,5.31,0,0,0,4.9,4.9,5.31,5.31,0,0,0,6.5,1,5.31,5.31,0,0,0,8.1,4.9,5.31,5.31,0,0,0,12,6.5,5.46,5.46,0,0,0,6.5,12Z\"/>\n",
              "  </svg>\n",
              "    </button>\n",
              "    <script>\n",
              "      (() => {\n",
              "      const buttonEl =\n",
              "        document.querySelector('#id_a2df946b-fe52-4a67-9824-52f9d28192d4 button.colab-df-generate');\n",
              "      buttonEl.style.display =\n",
              "        google.colab.kernel.accessAllowed ? 'block' : 'none';\n",
              "\n",
              "      buttonEl.onclick = () => {\n",
              "        google.colab.notebook.generateWithVariable('heart_data');\n",
              "      }\n",
              "      })();\n",
              "    </script>\n",
              "  </div>\n",
              "\n",
              "    </div>\n",
              "  </div>\n"
            ],
            "application/vnd.google.colaboratory.intrinsic+json": {
              "type": "dataframe",
              "variable_name": "heart_data"
            }
          },
          "metadata": {},
          "execution_count": 3
        }
      ]
    },
    {
      "cell_type": "markdown",
      "source": [
        "# **3. Data Splitting**"
      ],
      "metadata": {
        "id": "KkPem5eWL2UP"
      }
    },
    {
      "cell_type": "markdown",
      "source": [
        "Tahap Data Splitting bertujuan untuk memisahkan dataset menjadi dua bagian: data latih (training set) dan data uji (test set)."
      ],
      "metadata": {
        "id": "YYj1rl_JNI9Y"
      }
    },
    {
      "cell_type": "code",
      "source": [
        "# drop kolom \"id\" karena tidak diperlukan pada proses klasifikasi\n",
        "heart_data = heart_data.drop(columns=['id'])\n",
        "\n",
        "# Pisahkan fitur (X) dan target (y)\n",
        "X = heart_data.drop(columns=['Cluster'])\n",
        "y = heart_data['Cluster']\n",
        "\n",
        "# Split data menjadi set pelatihan dan set uji\n",
        "X_train, X_test, y_train, y_test = train_test_split(X, y, test_size=0.2, random_state=42)\n",
        "\n",
        "# Tampilkan bentuk set pelatihan dan set uji untuk memastikan split\n",
        "print(f\"Data Train shape: X_train={X_train.shape}, y_train={y_train.shape}\")\n",
        "print(f\"Data Test shape: X_test={X_test.shape}, y_test={y_test.shape}\")"
      ],
      "metadata": {
        "id": "OubAW-7ONKVj",
        "outputId": "93616e4d-1e6b-4301-b9d9-6985bf81b1a1",
        "colab": {
          "base_uri": "https://localhost:8080/"
        }
      },
      "execution_count": 4,
      "outputs": [
        {
          "output_type": "stream",
          "name": "stdout",
          "text": [
            "Training set shape: X_train=(810, 32), y_train=(810,)\n",
            "Test set shape: X_test=(203, 32), y_test=(203,)\n"
          ]
        }
      ]
    },
    {
      "cell_type": "markdown",
      "source": [
        "# **4. Membangun Model Klasifikasi**\n"
      ],
      "metadata": {
        "id": "IVPbB03CMhTT"
      }
    },
    {
      "cell_type": "markdown",
      "source": [
        "## **a. Membangun Model Klasifikasi**"
      ],
      "metadata": {
        "id": "Ned1pL9zMmBK"
      }
    },
    {
      "cell_type": "markdown",
      "source": [
        "Setelah memilih algoritma klasifikasi yang sesuai, langkah selanjutnya adalah melatih model menggunakan data latih.\n",
        "\n",
        "Berikut adalah rekomendasi tahapannya.\n",
        "1. Pilih algoritma klasifikasi yang sesuai, seperti Logistic Regression, Decision Tree, Random Forest, atau K-Nearest Neighbors (KNN).\n",
        "2. Latih model menggunakan data latih."
      ],
      "metadata": {
        "id": "WAWzPOE4Nkti"
      }
    },
    {
      "cell_type": "code",
      "source": [
        "# Melatih beberapa algoritma klasifikasi secara terpisah untuk melihat yang terbaik\n",
        "# Latih algoritma K-Nearest Neighbors\n",
        "knn = KNeighborsClassifier().fit(X_train, y_train)\n",
        "\n",
        "# Latih algoritma Decision Tree\n",
        "dt = DecisionTreeClassifier().fit(X_train, y_train)\n",
        "\n",
        "# Latih algoritma RandomFOrestClassifier\n",
        "rf = RandomForestClassifier().fit(X_train, y_train)\n",
        "\n",
        "# Latih algoritma Support Vector Machine\n",
        "svm = SVC().fit(X_train, y_train)\n",
        "\n",
        "# Latih algoritma Naive Bayes\n",
        "nb = GaussianNB().fit(X_train, y_train)\n",
        "\n",
        "print(\"Model training selesai.\")"
      ],
      "metadata": {
        "id": "4JYxBe87NLDk",
        "outputId": "08f56e01-63e9-45a3-ca96-31ed1b2bc8cf",
        "colab": {
          "base_uri": "https://localhost:8080/"
        }
      },
      "execution_count": 5,
      "outputs": [
        {
          "output_type": "stream",
          "name": "stdout",
          "text": [
            "Model training selesai.\n"
          ]
        }
      ]
    },
    {
      "cell_type": "markdown",
      "source": [
        "Untuk mendapatkan F1-Score dari algoritma yang terbaik untuk dataset, maka dicoba beberapa model klasifikasi seperti K-Nearest Neighbors (KNN), Decision Tree, Random Forest, Support Vector Machine (SVM), dan Naive Bayes. Dilatih dengan data latih yang ada untuk melihat model klasifikasi terbaik yang dapat digunakan."
      ],
      "metadata": {
        "id": "seYoHNY3XU1y"
      }
    },
    {
      "cell_type": "markdown",
      "source": [
        "## **b. Evaluasi Model Klasifikasi**"
      ],
      "metadata": {
        "id": "ergzChZFEL-O"
      }
    },
    {
      "cell_type": "markdown",
      "source": [
        "Berikut adalah **rekomendasi** tahapannya.\n",
        "1. Lakukan prediksi menggunakan data uji.\n",
        "2. Hitung metrik evaluasi seperti Accuracy dan F1-Score (Opsional: Precision dan Recall).\n",
        "3. Buat confusion matrix untuk melihat detail prediksi benar dan salah."
      ],
      "metadata": {
        "id": "zOm68u-7NpLT"
      }
    },
    {
      "cell_type": "code",
      "source": [
        "# K-Nearest Neighbors (KNN)\n",
        "y_pred_knn = knn.predict(X_test)\n",
        "cm_knn = confusion_matrix(y_test, y_pred_knn)\n",
        "tn, fp, fn, tp = cm_knn.ravel()\n",
        "print(\"==== KNN Classifier ====\")\n",
        "print(\"Confusion Matrix:\")\n",
        "print(cm_knn)\n",
        "print(f\"True Positive (TP): {tp}\")\n",
        "print(f\"False Positive (FP): {fp}\")\n",
        "print(f\"False Negative (FN): {fn}\")\n",
        "print(f\"True Negative (TN): {tn}\")\n",
        "print(f\"Accuracy: {accuracy_score(y_test, y_pred_knn):.4f}\")\n",
        "print(f\"Precision: {precision_score(y_test, y_pred_knn):.4f}\")\n",
        "print(f\"Recall: {recall_score(y_test, y_pred_knn):.4f}\")\n",
        "print(f\"F1-Score: {f1_score(y_test, y_pred_knn):.4f}\")\n",
        "print(\"\\n\" + \"-\"*40 + \"\\n\")\n",
        "\n",
        "plt.figure(figsize=(5, 4))\n",
        "sns.heatmap(cm_knn, annot=True, fmt='d', cmap='Blues', cbar=False)\n",
        "plt.title('KNN Confusion Matrix')\n",
        "plt.xlabel('Predicted')\n",
        "plt.ylabel('Actual')\n",
        "plt.show()"
      ],
      "metadata": {
        "id": "tMq4QAssNLip",
        "outputId": "7f1a3b02-903d-4768-d3e4-471cdc8b2932",
        "colab": {
          "base_uri": "https://localhost:8080/",
          "height": 684
        }
      },
      "execution_count": 6,
      "outputs": [
        {
          "output_type": "stream",
          "name": "stdout",
          "text": [
            "==== KNN Classifier ====\n",
            "Confusion Matrix:\n",
            "[[88 14]\n",
            " [34 67]]\n",
            "True Positive (TP): 67\n",
            "False Positive (FP): 14\n",
            "False Negative (FN): 34\n",
            "True Negative (TN): 88\n",
            "Accuracy: 0.7635\n",
            "Precision: 0.8272\n",
            "Recall: 0.6634\n",
            "F1-Score: 0.7363\n",
            "\n",
            "----------------------------------------\n",
            "\n"
          ]
        },
        {
          "output_type": "display_data",
          "data": {
            "text/plain": [
              "<Figure size 500x400 with 1 Axes>"
            ],
            "image/png": "[encoded data removed]"
          },
          "metadata": {}
        }
      ]
    },
    {
      "cell_type": "code",
      "source": [
        "# Decision Tree\n",
        "y_pred_dt = dt.predict(X_test)\n",
        "cm_dt = confusion_matrix(y_test, y_pred_dt)\n",
        "tn, fp, fn, tp = cm_dt.ravel()\n",
        "print(\"==== Decision Tree Classifier ====\")\n",
        "print(\"Confusion Matrix:\")\n",
        "print(cm_dt)\n",
        "print(f\"True Positive (TP): {tp}\")\n",
        "print(f\"False Positive (FP): {fp}\")\n",
        "print(f\"False Negative (FN): {fn}\")\n",
        "print(f\"True Negative (TN): {tn}\")\n",
        "print(f\"Accuracy: {accuracy_score(y_test, y_pred_dt):.4f}\")\n",
        "print(f\"Precision: {precision_score(y_test, y_pred_dt):.4f}\")\n",
        "print(f\"Recall: {recall_score(y_test, y_pred_dt):.4f}\")\n",
        "print(f\"F1-Score: {f1_score(y_test, y_pred_dt):.4f}\")\n",
        "print(\"\\n\" + \"-\"*40 + \"\\n\")\n",
        "\n",
        "plt.figure(figsize=(5, 4))\n",
        "sns.heatmap(cm_dt, annot=True, fmt='d', cmap='Blues', cbar=False)\n",
        "plt.title('Decision Tree Confusion Matrix')\n",
        "plt.xlabel('Predicted')\n",
        "plt.ylabel('Actual')\n",
        "plt.show()"
      ],
      "metadata": {
        "id": "8rQWTRADfpeU",
        "outputId": "d035a6ec-c3ec-4c06-bf13-01098b1a4c62",
        "colab": {
          "base_uri": "https://localhost:8080/",
          "height": 684
        }
      },
      "execution_count": 7,
      "outputs": [
        {
          "output_type": "stream",
          "name": "stdout",
          "text": [
            "==== Decision Tree Classifier ====\n",
            "Confusion Matrix:\n",
            "[[94  8]\n",
            " [ 9 92]]\n",
            "True Positive (TP): 92\n",
            "False Positive (FP): 8\n",
            "False Negative (FN): 9\n",
            "True Negative (TN): 94\n",
            "Accuracy: 0.9163\n",
            "Precision: 0.9200\n",
            "Recall: 0.9109\n",
            "F1-Score: 0.9154\n",
            "\n",
            "----------------------------------------\n",
            "\n"
          ]
        },
        {
          "output_type": "display_data",
          "data": {
            "text/plain": [
              "<Figure size 500x400 with 1 Axes>"
            ],
            "image/png": "[encoded data removed]"
          },
          "metadata": {}
        }
      ]
    },
    {
      "cell_type": "code",
      "source": [
        "# Random Forest\n",
        "y_pred_rf = rf.predict(X_test)\n",
        "cm_rf = confusion_matrix(y_test, y_pred_rf)\n",
        "tn, fp, fn, tp = cm_rf.ravel()\n",
        "print(\"==== Random Forest Classifier ====\")\n",
        "print(\"Confusion Matrix:\")\n",
        "print(cm_rf)\n",
        "print(f\"True Positive (TP): {tp}\")\n",
        "print(f\"False Positive (FP): {fp}\")\n",
        "print(f\"False Negative (FN): {fn}\")\n",
        "print(f\"True Negative (TN): {tn}\")\n",
        "print(f\"Accuracy: {accuracy_score(y_test, y_pred_rf):.4f}\")\n",
        "print(f\"Precision: {precision_score(y_test, y_pred_rf):.4f}\")\n",
        "print(f\"Recall: {recall_score(y_test, y_pred_rf):.4f}\")\n",
        "print(f\"F1-Score: {f1_score(y_test, y_pred_rf):.4f}\")\n",
        "print(\"\\n\" + \"-\"*40 + \"\\n\")\n",
        "\n",
        "plt.figure(figsize=(5, 4))\n",
        "sns.heatmap(cm_rf, annot=True, fmt='d', cmap='Blues', cbar=False)\n",
        "plt.title('Random Forest Confusion Matrix')\n",
        "plt.xlabel('Predicted')\n",
        "plt.ylabel('Actual')\n",
        "plt.show()"
      ],
      "metadata": {
        "id": "f048DjD9fxQG",
        "outputId": "6f95bb08-4f56-48b9-90bb-a85ebc4c3f92",
        "colab": {
          "base_uri": "https://localhost:8080/",
          "height": 684
        }
      },
      "execution_count": 8,
      "outputs": [
        {
          "output_type": "stream",
          "name": "stdout",
          "text": [
            "==== Random Forest Classifier ====\n",
            "Confusion Matrix:\n",
            "[[100   2]\n",
            " [  8  93]]\n",
            "True Positive (TP): 93\n",
            "False Positive (FP): 2\n",
            "False Negative (FN): 8\n",
            "True Negative (TN): 100\n",
            "Accuracy: 0.9507\n",
            "Precision: 0.9789\n",
            "Recall: 0.9208\n",
            "F1-Score: 0.9490\n",
            "\n",
            "----------------------------------------\n",
            "\n"
          ]
        },
        {
          "output_type": "display_data",
          "data": {
            "text/plain": [
              "<Figure size 500x400 with 1 Axes>"
            ],
            "image/png": "[encoded data removed]"
          },
          "metadata": {}
        }
      ]
    },
    {
      "cell_type": "code",
      "source": [
        "# Support Vector Machine (SVM)\n",
        "y_pred_svm = svm.predict(X_test)\n",
        "cm_svm = confusion_matrix(y_test, y_pred_svm)\n",
        "tn, fp, fn, tp = cm_svm.ravel()\n",
        "print(\"==== SVM Classifier ====\")\n",
        "print(\"Confusion Matrix:\")\n",
        "print(cm_svm)\n",
        "print(f\"True Positive (TP): {tp}\")\n",
        "print(f\"False Positive (FP): {fp}\")\n",
        "print(f\"False Negative (FN): {fn}\")\n",
        "print(f\"True Negative (TN): {tn}\")\n",
        "print(f\"Accuracy: {accuracy_score(y_test, y_pred_svm):.4f}\")\n",
        "print(f\"Precision: {precision_score(y_test, y_pred_svm):.4f}\")\n",
        "print(f\"Recall: {recall_score(y_test, y_pred_svm):.4f}\")\n",
        "print(f\"F1-Score: {f1_score(y_test, y_pred_svm):.4f}\")\n",
        "print(\"\\n\" + \"-\"*40 + \"\\n\")\n",
        "\n",
        "plt.figure(figsize=(5, 4))\n",
        "sns.heatmap(cm_svm, annot=True, fmt='d', cmap='Blues', cbar=False)\n",
        "plt.title('SVM Confusion Matrix')\n",
        "plt.xlabel('Predicted')\n",
        "plt.ylabel('Actual')\n",
        "plt.show()"
      ],
      "metadata": {
        "id": "SPZJQSUjf43Y",
        "colab": {
          "base_uri": "https://localhost:8080/",
          "height": 684
        },
        "outputId": "56940e14-9808-4d6b-83f5-961d1b5da9c6"
      },
      "execution_count": 9,
      "outputs": [
        {
          "output_type": "stream",
          "name": "stdout",
          "text": [
            "==== SVM Classifier ====\n",
            "Confusion Matrix:\n",
            "[[87 15]\n",
            " [39 62]]\n",
            "True Positive (TP): 62\n",
            "False Positive (FP): 15\n",
            "False Negative (FN): 39\n",
            "True Negative (TN): 87\n",
            "Accuracy: 0.7340\n",
            "Precision: 0.8052\n",
            "Recall: 0.6139\n",
            "F1-Score: 0.6966\n",
            "\n",
            "----------------------------------------\n",
            "\n"
          ]
        },
        {
          "output_type": "display_data",
          "data": {
            "text/plain": [
              "<Figure size 500x400 with 1 Axes>"
            ],
            "image/png": "[encoded data removed]"
          },
          "metadata": {}
        }
      ]
    },
    {
      "cell_type": "markdown",
      "source": [
        "Tulis hasil evaluasi algoritma yang digunakan, jika Anda menggunakan 2 algoritma, maka bandingkan hasilnya."
      ],
      "metadata": {
        "id": "H4_9OwrsXZlz"
      }
    },
    {
      "cell_type": "code",
      "source": [
        "# Naive Bayes\n",
        "y_pred_nb = nb.predict(X_test)\n",
        "cm_nb = confusion_matrix(y_test, y_pred_nb)\n",
        "tn, fp, fn, tp = cm_nb.ravel()\n",
        "print(\"==== Naive Bayes Classifier ====\")\n",
        "print(\"Confusion Matrix:\")\n",
        "print(cm_nb)\n",
        "print(f\"True Positive (TP): {tp}\")\n",
        "print(f\"False Positive (FP): {fp}\")\n",
        "print(f\"False Negative (FN): {fn}\")\n",
        "print(f\"True Negative (TN): {tn}\")\n",
        "print(f\"Accuracy: {accuracy_score(y_test, y_pred_nb):.4f}\")\n",
        "print(f\"Precision: {precision_score(y_test, y_pred_nb):.4f}\")\n",
        "print(f\"Recall: {recall_score(y_test, y_pred_nb):.4f}\")\n",
        "print(f\"F1-Score: {f1_score(y_test, y_pred_nb):.4f}\")\n",
        "print(\"\\n\" + \"-\"*40 + \"\\n\")\n",
        "\n",
        "plt.figure(figsize=(5, 4))\n",
        "sns.heatmap(cm_nb, annot=True, fmt='d', cmap='Blues', cbar=False)\n",
        "plt.title('Naive Bayes Confusion Matrix')\n",
        "plt.xlabel('Predicted')\n",
        "plt.ylabel('Actual')\n",
        "plt.show()"
      ],
      "metadata": {
        "colab": {
          "base_uri": "https://localhost:8080/",
          "height": 684
        },
        "id": "zn2HTP0p5ZQs",
        "outputId": "68701761-d30a-4bc5-cae8-7269fe384fb1"
      },
      "execution_count": 10,
      "outputs": [
        {
          "output_type": "stream",
          "name": "stdout",
          "text": [
            "==== Naive Bayes Classifier ====\n",
            "Confusion Matrix:\n",
            "[[101   1]\n",
            " [ 19  82]]\n",
            "True Positive (TP): 82\n",
            "False Positive (FP): 1\n",
            "False Negative (FN): 19\n",
            "True Negative (TN): 101\n",
            "Accuracy: 0.9015\n",
            "Precision: 0.9880\n",
            "Recall: 0.8119\n",
            "F1-Score: 0.8913\n",
            "\n",
            "----------------------------------------\n",
            "\n"
          ]
        },
        {
          "output_type": "display_data",
          "data": {
            "text/plain": [
              "<Figure size 500x400 with 1 Axes>"
            ],
            "image/png": "[encoded data removed]"
          },
          "metadata": {}
        }
      ]
    },
    {
      "cell_type": "code",
      "source": [
        "# Fungsi untuk mengevaluasi dan mengembalikan hasil dalam bentuk \"dictionary\"\n",
        "def evaluate_model(model, X_test, y_test):\n",
        "    y_pred = model.predict(X_test)\n",
        "    cm = confusion_matrix(y_test, y_pred)\n",
        "    tn, fp, fn, tp = cm.ravel()\n",
        "    results = {\n",
        "        'Confusion Matrix': cm,\n",
        "        'True Positive (TP)': tp,\n",
        "        'False Positive (FP)': fp,\n",
        "        'False Negative (FN)': fn,\n",
        "        'True Negative (TN)': tn,\n",
        "        'Accuracy': accuracy_score(y_test, y_pred),\n",
        "        'Precision': precision_score(y_test, y_pred),\n",
        "        'Recall': recall_score(y_test, y_pred),\n",
        "        'F1-Score': f1_score(y_test, y_pred)\n",
        "    }\n",
        "    return results\n",
        "\n",
        "# Evaluasi setiap model dan hasil yang diperoleh\n",
        "results = {\n",
        "    'K-Nearest Neighbors (KNN)': evaluate_model(knn, X_test, y_test),\n",
        "    'Decision Tree (DT)': evaluate_model(dt, X_test, y_test),\n",
        "    'Random Forest (RF)': evaluate_model(rf, X_test, y_test),\n",
        "    'Support Vector Machine (SVM)': evaluate_model(svm, X_test, y_test),\n",
        "    'Naive Bayes (NB)': evaluate_model(nb, X_test, y_test)\n",
        "}\n",
        "\n",
        "# Membuat sebuah tabel untuk merangkum hasil evaluasi setiap model\n",
        "summary_df = pd.DataFrame(columns=['Model', 'Accuracy', 'Precision', 'Recall', 'F1-Score'])\n",
        "\n",
        "# Mengisi tabel dengan hasil evaluasi setiap model\n",
        "rows = []\n",
        "for model_name, metrics in results.items():\n",
        "    rows.append({\n",
        "        'Model': model_name,\n",
        "        'Accuracy': metrics['Accuracy'],\n",
        "        'Precision': metrics['Precision'],\n",
        "        'Recall': metrics['Recall'],\n",
        "        'F1-Score': metrics['F1-Score']\n",
        "    })\n",
        "\n",
        "# Mengoversi \"dictionary\" dalam bentuk tabel\n",
        "summary_df = pd.DataFrame(rows)\n",
        "\n",
        "# Menampilkan hasil tabel yang telah dibuat\n",
        "print(summary_df)"
      ],
      "metadata": {
        "colab": {
          "base_uri": "https://localhost:8080/"
        },
        "id": "b39b20B25lJl",
        "outputId": "8d1deedc-0882-4858-eb07-6004445130e7"
      },
      "execution_count": 11,
      "outputs": [
        {
          "output_type": "stream",
          "name": "stdout",
          "text": [
            "                          Model  Accuracy  Precision    Recall  F1-Score\n",
            "0     K-Nearest Neighbors (KNN)  0.763547   0.827160  0.663366  0.736264\n",
            "1            Decision Tree (DT)  0.916256   0.920000  0.910891  0.915423\n",
            "2            Random Forest (RF)  0.950739   0.978947  0.920792  0.948980\n",
            "3  Support Vector Machine (SVM)  0.733990   0.805195  0.613861  0.696629\n",
            "4              Naive Bayes (NB)  0.901478   0.987952  0.811881  0.891304\n"
          ]
        }
      ]
    },
    {
      "cell_type": "markdown",
      "source": [
        "## **c. Tuning Model Klasifikasi (Optional)**"
      ],
      "metadata": {
        "id": "ph9yIYDXEPuB"
      }
    },
    {
      "cell_type": "markdown",
      "source": [
        "Gunakan GridSearchCV, RandomizedSearchCV, atau metode lainnya untuk mencari kombinasi hyperparameter terbaik"
      ],
      "metadata": {
        "id": "-Bikx3LINv5e"
      }
    },
    {
      "cell_type": "code",
      "source": [
        "#Type your code here"
      ],
      "metadata": {
        "id": "winbFzb8NL95"
      },
      "execution_count": null,
      "outputs": []
    },
    {
      "cell_type": "markdown",
      "source": [
        "## **d. Evaluasi Model Klasifikasi setelah Tuning (Optional)**"
      ],
      "metadata": {
        "id": "hE7pqlEPEYzI"
      }
    },
    {
      "cell_type": "markdown",
      "source": [
        "Berikut adalah rekomendasi tahapannya.\n",
        "1. Gunakan model dengan hyperparameter terbaik.\n",
        "2. Hitung ulang metrik evaluasi untuk melihat apakah ada peningkatan performa."
      ],
      "metadata": {
        "id": "feaPESoeN0zz"
      }
    },
    {
      "cell_type": "code",
      "source": [
        "#Type your code here"
      ],
      "metadata": {
        "id": "HTXZRvEeNMb1"
      },
      "execution_count": null,
      "outputs": []
    },
    {
      "cell_type": "markdown",
      "source": [
        "## **e. Analisis Hasil Evaluasi Model Klasifikasi**"
      ],
      "metadata": {
        "id": "ZRsOdm4uEgAW"
      }
    },
    {
      "cell_type": "markdown",
      "source": [
        "Berikut adalah **rekomendasi** tahapannya.\n",
        "1. Analisis hasil evaluasi dari beberapa model klasifikasi yang digunakan:\n",
        "\n",
        "    a. **K-Nearest Neighbors (KNN)**\n",
        "      - **Accuracy**: 76.35%\n",
        "      - **Precision**: 82.72%\n",
        "      - **Recall**: 66.34%\n",
        "      - **F1-Score**: 73.63%\n",
        "\n",
        "        **Analisis**: KNN memiliki akurasi yang cukup baik (76.35%). Precision-nya (82.72%) menunjukkan bahwa model cukup baik dalam mengidentifikasi kasus positif yang sebenarnya. Namun, recall-nya (66.34%) menunjukkan bahwa model ini kurang efektif dalam menangkap semua kasus positif yang ada. F1-Score 73.63% mencerminkan trade-off antara precision dan recall.\n",
        "\n",
        "  b. **Decision Tree (DT)**\n",
        "      - **Accuracy**: 91.63%\n",
        "      - **Precision**: 92.00%\n",
        "      - **Recall**: 91.09%\n",
        "      - **F1-Score**: 91.54%\n",
        "\n",
        "        **Analisis**: Decision Tree memiliki akurasi yang lebih tinggi (91.63%) dibandingkan KNN. Precision-nya (92.00%) lebih tinggi daripada beberapa model lain kecuali model Random Forest. Recall-nya (91.09%) sangat baik, menunjukkan bahwa model ini efektif dalam menangkap kasus positif. F1-Score 91.54% menunjukkan performa yang seimbang antara precision dan recall.\n",
        "\n",
        "  c. **Random Forest (RF)**\n",
        "      - **Accuracy**: 95.07%\n",
        "      - **Precision**: 97.89%\n",
        "      - **Recall**: 92.08%\n",
        "      - **F1-Score**: 94.50%\n",
        "\n",
        "        **Analisis**: Random Forest menunjukkan performa terbaik di antara semua model dengan akurasi tertinggi (95.07%). Precision-nya (97.89%) juga sangat baik, menunjukkan bahwa model ini sangat akurat dalam memprediksi kasus positif. Recall-nya (92.08%) sangat baik dalam menangkap kasus positif. F1-Score 94.50% menunjukkan trade-off yang baik antara precision dan recall.\n",
        "\n",
        "   d. **Support Vector Machine (SVM)**\n",
        "      - **Accuracy**: 73.40%\n",
        "      - **Precision**: 80.52%\n",
        "      - **Recall**: 61.39%\n",
        "      - **F1-Score**: 69.66%\n",
        "\n",
        "        **Analisis**: SVM memiliki akurasi yang tinggi (73.40%) dan precision yang sangat baik (80.52%). Namun, recall-nya yang rendah (61.39%) menunjukkan bahwa model ini cenderung melewatkan banyak kasus positif. F1-Score 69.66% mencerminkan trade-off antara precision yang tinggi dan recall yang rendah.\n",
        "\n",
        "  e. **Naive Bayes (NB)**\n",
        "      - **Accuracy**: 90.15%\n",
        "      - **Precision**: 98.80%\n",
        "      - **Recall**: 81.20%\n",
        "      - **F1-Score**: 89.13%\n",
        "\n",
        "        **Analisis** : Naive Bayes memiliki akurasi yang kompetitif (90.15%) dan precision yang sangat baik (98.80%). Recall-nya yang tinggi (81.20%) menunjukkan bahwa model ini cukup efektif dalam menangkap kasus positif. F1-Score 89.13% menunjukkan bahwa model ini mencerminkan trade-off cukup baik antara precision dan recall.\n",
        "\n",
        "  **Kesimpulan:**\n",
        "    **Random Forest** adalah model dengan **akurasi tertinggi** (95.07%) dan **precision yang sangat baik** (97.89%) hanya sedikit dibawah model Naive Bayes dengan Precision (98.80%). Kemudian recall-nya tertinggi dibandingkan model lain (92.08%) serta F1-Score-nya yang tertinggi (94.50%) menunjukkan keseimbangan yang baik antara precision dan recall. Ini menjadikannya pilihan yang sangat baik pada pengklasifikasian data \"heart_deases\" yang telah di beri label pada proses klastering sebelumnya.\n",
        "2. Kelemahan dari Random Forest\n",
        "   - kebutuhan memori yang tinggi\n",
        "   - prediksi yang membutuhkan waktu yang lebih lama dibandingkan dengan model lain.\n",
        "3. Rekomendasi:\n",
        "   - Dari model terbaik yang didapatkan, bisa dilakukan hyperparameter tunning agar bisa mendapatkan F1-Score yang lebih baik meskipun dengan F1-Score saat ini sudah sangat baik.\n",
        "   - Kemudian dengan mengumpulkan data pasien dari berbagai rumah sakit yang ada dapat meningkatkan acuracy dari pengklasifikasian pasien sakit jantung.\n",
        "   - Jika dataset yang dikumpulkan sudah sangat besar, maka bisa mencoba memanfaatkan model yang lain seperti neural network."
      ],
      "metadata": {
        "id": "Hm3BhSi6N4_l"
      }
    }
  ]
}